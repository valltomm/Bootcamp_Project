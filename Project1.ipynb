{
 "cells": [
  {
   "cell_type": "code",
   "execution_count": 72,
   "metadata": {},
   "outputs": [],
   "source": [
    "# Instructor Demo\n",
    "%matplotlib inline\n",
    "# Dependencies and Setup\n",
    "import matplotlib.pyplot as plt\n",
    "import pandas as pd\n",
    "import numpy as np\n",
    "import gmaps\n",
    "\n",
    "# Google developer API key\n",
    "from gkey import gkey\n",
    "\n",
    "# Access maps with unique API key\n",
    "gmaps.configure(api_key=gkey)"
   ]
  },
  {
   "cell_type": "code",
   "execution_count": 77,
   "metadata": {},
   "outputs": [],
   "source": [
    "properties_path= \"properties.csv\""
   ]
  },
  {
   "cell_type": "code",
   "execution_count": 78,
   "metadata": {},
   "outputs": [
    {
     "data": {
      "text/html": [
       "<div>\n",
       "<style scoped>\n",
       "    .dataframe tbody tr th:only-of-type {\n",
       "        vertical-align: middle;\n",
       "    }\n",
       "\n",
       "    .dataframe tbody tr th {\n",
       "        vertical-align: top;\n",
       "    }\n",
       "\n",
       "    .dataframe thead th {\n",
       "        text-align: right;\n",
       "    }\n",
       "</style>\n",
       "<table border=\"1\" class=\"dataframe\">\n",
       "  <thead>\n",
       "    <tr style=\"text-align: right;\">\n",
       "      <th></th>\n",
       "      <th>Address</th>\n",
       "      <th>AreaName</th>\n",
       "      <th>Price ($)</th>\n",
       "      <th>lat</th>\n",
       "      <th>lng</th>\n",
       "    </tr>\n",
       "  </thead>\n",
       "  <tbody>\n",
       "    <tr>\n",
       "      <th>0</th>\n",
       "      <td>86 Waterford Dr Toronto, ON</td>\n",
       "      <td>Richview</td>\n",
       "      <td>999888</td>\n",
       "      <td>43.679882</td>\n",
       "      <td>-79.544266</td>\n",
       "    </tr>\n",
       "    <tr>\n",
       "      <th>1</th>\n",
       "      <td>#80 - 100 BEDDOE DR Hamilton, ON</td>\n",
       "      <td>Chedoke Park B</td>\n",
       "      <td>399900</td>\n",
       "      <td>43.250000</td>\n",
       "      <td>-79.904396</td>\n",
       "    </tr>\n",
       "    <tr>\n",
       "      <th>2</th>\n",
       "      <td>213 Bowman Street Hamilton, ON</td>\n",
       "      <td>Ainslie Wood East</td>\n",
       "      <td>479000</td>\n",
       "      <td>43.251690</td>\n",
       "      <td>-79.919357</td>\n",
       "    </tr>\n",
       "    <tr>\n",
       "      <th>3</th>\n",
       "      <td>102 NEIL Avenue Hamilton, ON</td>\n",
       "      <td>Greenford</td>\n",
       "      <td>285900</td>\n",
       "      <td>43.227161</td>\n",
       "      <td>-79.767403</td>\n",
       "    </tr>\n",
       "    <tr>\n",
       "      <th>4</th>\n",
       "      <td>#1409 - 230 King St Toronto, ON</td>\n",
       "      <td>Downtown</td>\n",
       "      <td>362000</td>\n",
       "      <td>43.651478</td>\n",
       "      <td>-79.368118</td>\n",
       "    </tr>\n",
       "  </tbody>\n",
       "</table>\n",
       "</div>"
      ],
      "text/plain": [
       "                            Address           AreaName  Price ($)        lat  \\\n",
       "0       86 Waterford Dr Toronto, ON           Richview     999888  43.679882   \n",
       "1  #80 - 100 BEDDOE DR Hamilton, ON     Chedoke Park B     399900  43.250000   \n",
       "2    213 Bowman Street Hamilton, ON  Ainslie Wood East     479000  43.251690   \n",
       "3      102 NEIL Avenue Hamilton, ON          Greenford     285900  43.227161   \n",
       "4   #1409 - 230 King St Toronto, ON           Downtown     362000  43.651478   \n",
       "\n",
       "         lng  \n",
       "0 -79.544266  \n",
       "1 -79.904396  \n",
       "2 -79.919357  \n",
       "3 -79.767403  \n",
       "4 -79.368118  "
      ]
     },
     "execution_count": 78,
     "metadata": {},
     "output_type": "execute_result"
    }
   ],
   "source": [
    "# drop unnamed column tried all of these options\n",
    "# properties_data.dropna(how='all', axis=1)\n",
    "# properties_data=pd.read_csv('properties.csv', index_col=0)\n",
    "properties_data = pd.read_csv(properties_path)\n",
    "properties_data.rename({\"Unnamed: 0\":\"a\"}, axis=\"columns\", inplace=True)\n",
    "properties_data.drop([\"a\"], axis=1, inplace=True)\n",
    "\n",
    "properties_data.head()"
   ]
  },
  {
   "cell_type": "code",
   "execution_count": 79,
   "metadata": {},
   "outputs": [
    {
     "data": {
      "text/plain": [
       "Address       object\n",
       "AreaName      object\n",
       "Price ($)      int64\n",
       "lat          float64\n",
       "lng          float64\n",
       "dtype: object"
      ]
     },
     "execution_count": 79,
     "metadata": {},
     "output_type": "execute_result"
    }
   ],
   "source": [
    "properties_data.dtypes"
   ]
  },
  {
   "cell_type": "code",
   "execution_count": 62,
   "metadata": {
    "scrolled": true
   },
   "outputs": [
    {
     "data": {
      "text/html": [
       "<div>\n",
       "<style scoped>\n",
       "    .dataframe tbody tr th:only-of-type {\n",
       "        vertical-align: middle;\n",
       "    }\n",
       "\n",
       "    .dataframe tbody tr th {\n",
       "        vertical-align: top;\n",
       "    }\n",
       "\n",
       "    .dataframe thead th {\n",
       "        text-align: right;\n",
       "    }\n",
       "</style>\n",
       "<table border=\"1\" class=\"dataframe\">\n",
       "  <thead>\n",
       "    <tr style=\"text-align: right;\">\n",
       "      <th></th>\n",
       "      <th>Address</th>\n",
       "      <th>AreaName</th>\n",
       "      <th>Price</th>\n",
       "      <th>lat</th>\n",
       "      <th>lng</th>\n",
       "    </tr>\n",
       "  </thead>\n",
       "  <tbody>\n",
       "    <tr>\n",
       "      <th>0</th>\n",
       "      <td>86 Waterford Dr Toronto, ON</td>\n",
       "      <td>Richview</td>\n",
       "      <td>999888</td>\n",
       "      <td>43.679882</td>\n",
       "      <td>-79.544266</td>\n",
       "    </tr>\n",
       "    <tr>\n",
       "      <th>1</th>\n",
       "      <td>#80 - 100 BEDDOE DR Hamilton, ON</td>\n",
       "      <td>Chedoke Park B</td>\n",
       "      <td>399900</td>\n",
       "      <td>43.250000</td>\n",
       "      <td>-79.904396</td>\n",
       "    </tr>\n",
       "    <tr>\n",
       "      <th>2</th>\n",
       "      <td>213 Bowman Street Hamilton, ON</td>\n",
       "      <td>Ainslie Wood East</td>\n",
       "      <td>479000</td>\n",
       "      <td>43.251690</td>\n",
       "      <td>-79.919357</td>\n",
       "    </tr>\n",
       "    <tr>\n",
       "      <th>3</th>\n",
       "      <td>102 NEIL Avenue Hamilton, ON</td>\n",
       "      <td>Greenford</td>\n",
       "      <td>285900</td>\n",
       "      <td>43.227161</td>\n",
       "      <td>-79.767403</td>\n",
       "    </tr>\n",
       "    <tr>\n",
       "      <th>4</th>\n",
       "      <td>#1409 - 230 King St Toronto, ON</td>\n",
       "      <td>Downtown</td>\n",
       "      <td>362000</td>\n",
       "      <td>43.651478</td>\n",
       "      <td>-79.368118</td>\n",
       "    </tr>\n",
       "  </tbody>\n",
       "</table>\n",
       "</div>"
      ],
      "text/plain": [
       "                            Address           AreaName  Price            lat  \\\n",
       "0       86 Waterford Dr Toronto, ON           Richview     999888  43.679882   \n",
       "1  #80 - 100 BEDDOE DR Hamilton, ON     Chedoke Park B     399900  43.250000   \n",
       "2    213 Bowman Street Hamilton, ON  Ainslie Wood East     479000  43.251690   \n",
       "3      102 NEIL Avenue Hamilton, ON          Greenford     285900  43.227161   \n",
       "4   #1409 - 230 King St Toronto, ON           Downtown     362000  43.651478   \n",
       "\n",
       "         lng  \n",
       "0 -79.544266  \n",
       "1 -79.904396  \n",
       "2 -79.919357  \n",
       "3 -79.767403  \n",
       "4 -79.368118  "
      ]
     },
     "execution_count": 62,
     "metadata": {},
     "output_type": "execute_result"
    }
   ],
   "source": [
    "# Dealing with special characters, removing each special character separtely\n",
    "properties_data.columns = properties_data.columns.str.replace('$', ' ')\n",
    "properties_data.columns = properties_data.columns.str.replace('(', ' ')\n",
    "properties_data.columns = properties_data.columns.str.replace(')', ' ')\n",
    "properties_data.head()"
   ]
  },
  {
   "cell_type": "code",
   "execution_count": 80,
   "metadata": {},
   "outputs": [
    {
     "data": {
      "text/plain": [
       "Address       object\n",
       "AreaName      object\n",
       "Price ($)      int64\n",
       "lat          float64\n",
       "lng          float64\n",
       "dtype: object"
      ]
     },
     "execution_count": 80,
     "metadata": {},
     "output_type": "execute_result"
    }
   ],
   "source": [
    "properties_data.dtypes\n"
   ]
  },
  {
   "cell_type": "code",
   "execution_count": 81,
   "metadata": {},
   "outputs": [],
   "source": [
    "# when running map function, there were found NaN data in lat and lng, use drop \n",
    "properties_drop=properties_data.dropna()"
   ]
  },
  {
   "cell_type": "code",
   "execution_count": 82,
   "metadata": {},
   "outputs": [
    {
     "data": {
      "text/html": [
       "<div>\n",
       "<style scoped>\n",
       "    .dataframe tbody tr th:only-of-type {\n",
       "        vertical-align: middle;\n",
       "    }\n",
       "\n",
       "    .dataframe tbody tr th {\n",
       "        vertical-align: top;\n",
       "    }\n",
       "\n",
       "    .dataframe thead th {\n",
       "        text-align: right;\n",
       "    }\n",
       "</style>\n",
       "<table border=\"1\" class=\"dataframe\">\n",
       "  <thead>\n",
       "    <tr style=\"text-align: right;\">\n",
       "      <th></th>\n",
       "      <th>Price ($)</th>\n",
       "      <th>lat</th>\n",
       "      <th>lng</th>\n",
       "    </tr>\n",
       "  </thead>\n",
       "  <tbody>\n",
       "    <tr>\n",
       "      <th>count</th>\n",
       "      <td>2.486800e+04</td>\n",
       "      <td>24868.000000</td>\n",
       "      <td>24868.000000</td>\n",
       "    </tr>\n",
       "    <tr>\n",
       "      <th>mean</th>\n",
       "      <td>5.669701e+05</td>\n",
       "      <td>43.939495</td>\n",
       "      <td>-79.382865</td>\n",
       "    </tr>\n",
       "    <tr>\n",
       "      <th>std</th>\n",
       "      <td>8.533163e+05</td>\n",
       "      <td>1.006421</td>\n",
       "      <td>2.383697</td>\n",
       "    </tr>\n",
       "    <tr>\n",
       "      <th>min</th>\n",
       "      <td>0.000000e+00</td>\n",
       "      <td>36.160065</td>\n",
       "      <td>-122.553154</td>\n",
       "    </tr>\n",
       "    <tr>\n",
       "      <th>25%</th>\n",
       "      <td>2.215000e+05</td>\n",
       "      <td>43.404707</td>\n",
       "      <td>-80.286264</td>\n",
       "    </tr>\n",
       "    <tr>\n",
       "      <th>50%</th>\n",
       "      <td>3.749000e+05</td>\n",
       "      <td>43.714592</td>\n",
       "      <td>-79.499923</td>\n",
       "    </tr>\n",
       "    <tr>\n",
       "      <th>75%</th>\n",
       "      <td>6.199000e+05</td>\n",
       "      <td>44.434961</td>\n",
       "      <td>-79.118414</td>\n",
       "    </tr>\n",
       "    <tr>\n",
       "      <th>max</th>\n",
       "      <td>3.250000e+07</td>\n",
       "      <td>53.851017</td>\n",
       "      <td>1.074519</td>\n",
       "    </tr>\n",
       "  </tbody>\n",
       "</table>\n",
       "</div>"
      ],
      "text/plain": [
       "          Price ($)           lat           lng\n",
       "count  2.486800e+04  24868.000000  24868.000000\n",
       "mean   5.669701e+05     43.939495    -79.382865\n",
       "std    8.533163e+05      1.006421      2.383697\n",
       "min    0.000000e+00     36.160065   -122.553154\n",
       "25%    2.215000e+05     43.404707    -80.286264\n",
       "50%    3.749000e+05     43.714592    -79.499923\n",
       "75%    6.199000e+05     44.434961    -79.118414\n",
       "max    3.250000e+07     53.851017      1.074519"
      ]
     },
     "execution_count": 82,
     "metadata": {},
     "output_type": "execute_result"
    }
   ],
   "source": [
    "properties_drop.describe()\n"
   ]
  },
  {
   "cell_type": "code",
   "execution_count": 87,
   "metadata": {},
   "outputs": [
    {
     "data": {
      "text/html": [
       "<div>\n",
       "<style scoped>\n",
       "    .dataframe tbody tr th:only-of-type {\n",
       "        vertical-align: middle;\n",
       "    }\n",
       "\n",
       "    .dataframe tbody tr th {\n",
       "        vertical-align: top;\n",
       "    }\n",
       "\n",
       "    .dataframe thead th {\n",
       "        text-align: right;\n",
       "    }\n",
       "</style>\n",
       "<table border=\"1\" class=\"dataframe\">\n",
       "  <thead>\n",
       "    <tr style=\"text-align: right;\">\n",
       "      <th></th>\n",
       "      <th>Price ($)</th>\n",
       "      <th>lat</th>\n",
       "      <th>lng</th>\n",
       "    </tr>\n",
       "  </thead>\n",
       "  <tbody>\n",
       "    <tr>\n",
       "      <th>count</th>\n",
       "      <td>4.240000e+02</td>\n",
       "      <td>424.000000</td>\n",
       "      <td>424.000000</td>\n",
       "    </tr>\n",
       "    <tr>\n",
       "      <th>mean</th>\n",
       "      <td>1.176637e+06</td>\n",
       "      <td>43.694392</td>\n",
       "      <td>-79.399398</td>\n",
       "    </tr>\n",
       "    <tr>\n",
       "      <th>std</th>\n",
       "      <td>1.735226e+06</td>\n",
       "      <td>0.044623</td>\n",
       "      <td>0.048687</td>\n",
       "    </tr>\n",
       "    <tr>\n",
       "      <th>min</th>\n",
       "      <td>2.500000e+01</td>\n",
       "      <td>43.594883</td>\n",
       "      <td>-79.537346</td>\n",
       "    </tr>\n",
       "    <tr>\n",
       "      <th>25%</th>\n",
       "      <td>3.498750e+05</td>\n",
       "      <td>43.672212</td>\n",
       "      <td>-79.415481</td>\n",
       "    </tr>\n",
       "    <tr>\n",
       "      <th>50%</th>\n",
       "      <td>5.994500e+05</td>\n",
       "      <td>43.687865</td>\n",
       "      <td>-79.395897</td>\n",
       "    </tr>\n",
       "    <tr>\n",
       "      <th>75%</th>\n",
       "      <td>1.262000e+06</td>\n",
       "      <td>43.709171</td>\n",
       "      <td>-79.388796</td>\n",
       "    </tr>\n",
       "    <tr>\n",
       "      <th>max</th>\n",
       "      <td>1.488000e+07</td>\n",
       "      <td>43.827942</td>\n",
       "      <td>-79.258430</td>\n",
       "    </tr>\n",
       "  </tbody>\n",
       "</table>\n",
       "</div>"
      ],
      "text/plain": [
       "          Price ($)         lat         lng\n",
       "count  4.240000e+02  424.000000  424.000000\n",
       "mean   1.176637e+06   43.694392  -79.399398\n",
       "std    1.735226e+06    0.044623    0.048687\n",
       "min    2.500000e+01   43.594883  -79.537346\n",
       "25%    3.498750e+05   43.672212  -79.415481\n",
       "50%    5.994500e+05   43.687865  -79.395897\n",
       "75%    1.262000e+06   43.709171  -79.388796\n",
       "max    1.488000e+07   43.827942  -79.258430"
      ]
     },
     "execution_count": 87,
     "metadata": {},
     "output_type": "execute_result"
    }
   ],
   "source": [
    "#try filter by address, map is better with areaname\n",
    "properties_tor=properties_drop[properties_drop['AreaName'].str.contains(\"Toronto\")]\n",
    "properties_tor.describe()"
   ]
  },
  {
   "cell_type": "code",
   "execution_count": 88,
   "metadata": {},
   "outputs": [
    {
     "name": "stdout",
     "output_type": "stream",
     "text": [
      "             lat        lng\n",
      "16     43.662872 -79.423233\n",
      "86     43.691135 -79.415573\n",
      "100    43.708542 -79.402115\n",
      "123    43.824669 -79.274445\n",
      "128    43.665710 -79.409096\n",
      "144    43.689011 -79.400002\n",
      "261    43.676369 -79.405739\n",
      "266    43.674103 -79.388809\n",
      "272    43.685440 -79.395966\n",
      "273    43.717831 -79.395996\n",
      "278    43.711781 -79.391640\n",
      "288    43.708008 -79.400787\n",
      "294    43.685623 -79.409592\n",
      "298    43.702080 -79.437904\n",
      "307    43.671864 -79.393814\n",
      "331    43.751030 -79.465858\n",
      "381    43.711784 -79.435150\n",
      "383    43.688213 -79.433723\n",
      "394    43.717461 -79.378860\n",
      "611    43.640354 -79.426109\n",
      "612    43.718014 -79.392662\n",
      "620    43.692696 -79.414703\n",
      "626    43.696072 -79.404770\n",
      "629    43.733105 -79.393219\n",
      "631    43.669445 -79.392250\n",
      "633    43.678749 -79.414062\n",
      "667    43.761047 -79.410904\n",
      "669    43.673172 -79.389687\n",
      "685    43.670319 -79.394432\n",
      "688    43.708694 -79.394318\n",
      "...          ...        ...\n",
      "21613  43.672371 -79.387436\n",
      "21616  43.710625 -79.381691\n",
      "21617  43.709480 -79.421585\n",
      "21635  43.706940 -79.396904\n",
      "21650  43.702991 -79.503532\n",
      "21655  43.598866 -79.513947\n",
      "21697  43.687897 -79.396156\n",
      "21699  43.719627 -79.399826\n",
      "21703  43.671654 -79.394600\n",
      "21720  43.688107 -79.385658\n",
      "21731  43.671551 -79.390503\n",
      "21747  43.663834 -79.417755\n",
      "21755  43.690948 -79.439896\n",
      "21760  43.688816 -79.432076\n",
      "21784  43.761047 -79.410904\n",
      "21787  43.719818 -79.391922\n",
      "21797  43.705097 -79.397514\n",
      "21825  43.761047 -79.410904\n",
      "21827  43.761047 -79.410904\n",
      "21835  43.673172 -79.389687\n",
      "22548  43.670319 -79.394432\n",
      "22557  43.710548 -79.379990\n",
      "22558  43.653225 -79.383186\n",
      "22574  43.708008 -79.400787\n",
      "22585  43.712566 -79.399895\n",
      "22601  43.682308 -79.423828\n",
      "22603  43.717091 -79.429459\n",
      "24026  43.670078 -79.393288\n",
      "24028  43.686676 -79.399445\n",
      "24036  43.696083 -79.508209\n",
      "\n",
      "[424 rows x 2 columns]\n"
     ]
    }
   ],
   "source": [
    "locations= properties_tor[[\"lat\", \"lng\"]]\n",
    "print(locations)"
   ]
  },
  {
   "cell_type": "code",
   "execution_count": 89,
   "metadata": {},
   "outputs": [],
   "source": [
    "figure_layout = {\n",
    "    'width': '400px',\n",
    "    'height': '300px',\n",
    "    'border': '1px solid black',\n",
    "    'padding': '1px',\n",
    "    'margin': '0 auto 0 auto'\n",
    "}\n",
    "fig = gmaps.figure(layout=figure_layout)"
   ]
  },
  {
   "cell_type": "code",
   "execution_count": 90,
   "metadata": {},
   "outputs": [
    {
     "data": {
      "application/vnd.jupyter.widget-view+json": {
       "model_id": "4e01945dce3747bc815e83025c38acec",
       "version_major": 2,
       "version_minor": 0
      },
      "text/plain": [
       "Figure(layout=FigureLayout(border='1px solid black', height='300px', margin='0 auto 0 auto', padding='1px', wi…"
      ]
     },
     "metadata": {},
     "output_type": "display_data"
    }
   ],
   "source": [
    "# Assign the marker layer to a variable\n",
    "markers = gmaps.marker_layer(locations)\n",
    "# Add the layer to the map\n",
    "fig.add_layer(markers)\n",
    "fig"
   ]
  },
  {
   "cell_type": "code",
   "execution_count": null,
   "metadata": {},
   "outputs": [],
   "source": []
  }
 ],
 "metadata": {
  "kernelspec": {
   "display_name": "Python 3",
   "language": "python",
   "name": "python3"
  },
  "language_info": {
   "codemirror_mode": {
    "name": "ipython",
    "version": 3
   },
   "file_extension": ".py",
   "mimetype": "text/x-python",
   "name": "python",
   "nbconvert_exporter": "python",
   "pygments_lexer": "ipython3",
   "version": "3.7.1"
  }
 },
 "nbformat": 4,
 "nbformat_minor": 2
}
