{
 "cells": [
  {
   "cell_type": "code",
   "execution_count": 44,
   "metadata": {},
   "outputs": [],
   "source": [
    "# Instructor Demo\n",
    "%matplotlib inline\n",
    "# Dependencies and Setup\n",
    "import matplotlib.pyplot as plt\n",
    "import pandas as pd\n",
    "import numpy as np\n",
    "import gmaps\n",
    "import requests\n",
    "import json\n",
    "# Google developer API key\n",
    "from config import gkey\n",
    "\n",
    "# Access maps with unique API key\n",
    "# gmaps.configure(api_key=gkey)"
   ]
  },
  {
   "cell_type": "code",
   "execution_count": 46,
   "metadata": {},
   "outputs": [],
   "source": [
    "properties_path= \"properties.csv\""
   ]
  },
  {
   "cell_type": "code",
   "execution_count": 47,
   "metadata": {},
   "outputs": [
    {
     "data": {
      "text/html": [
       "<div>\n",
       "<style scoped>\n",
       "    .dataframe tbody tr th:only-of-type {\n",
       "        vertical-align: middle;\n",
       "    }\n",
       "\n",
       "    .dataframe tbody tr th {\n",
       "        vertical-align: top;\n",
       "    }\n",
       "\n",
       "    .dataframe thead th {\n",
       "        text-align: right;\n",
       "    }\n",
       "</style>\n",
       "<table border=\"1\" class=\"dataframe\">\n",
       "  <thead>\n",
       "    <tr style=\"text-align: right;\">\n",
       "      <th></th>\n",
       "      <th>Address</th>\n",
       "      <th>AreaName</th>\n",
       "      <th>Price</th>\n",
       "      <th>lat</th>\n",
       "      <th>lng</th>\n",
       "    </tr>\n",
       "  </thead>\n",
       "  <tbody>\n",
       "    <tr>\n",
       "      <th>0</th>\n",
       "      <td>86 Waterford Dr Toronto, ON</td>\n",
       "      <td>Richview</td>\n",
       "      <td>999888</td>\n",
       "      <td>43.679882</td>\n",
       "      <td>-79.544266</td>\n",
       "    </tr>\n",
       "    <tr>\n",
       "      <th>1</th>\n",
       "      <td>#80 - 100 BEDDOE DR Hamilton, ON</td>\n",
       "      <td>Chedoke Park B</td>\n",
       "      <td>399900</td>\n",
       "      <td>43.250000</td>\n",
       "      <td>-79.904396</td>\n",
       "    </tr>\n",
       "    <tr>\n",
       "      <th>2</th>\n",
       "      <td>213 Bowman Street Hamilton, ON</td>\n",
       "      <td>Ainslie Wood East</td>\n",
       "      <td>479000</td>\n",
       "      <td>43.251690</td>\n",
       "      <td>-79.919357</td>\n",
       "    </tr>\n",
       "    <tr>\n",
       "      <th>3</th>\n",
       "      <td>102 NEIL Avenue Hamilton, ON</td>\n",
       "      <td>Greenford</td>\n",
       "      <td>285900</td>\n",
       "      <td>43.227161</td>\n",
       "      <td>-79.767403</td>\n",
       "    </tr>\n",
       "    <tr>\n",
       "      <th>4</th>\n",
       "      <td>#1409 - 230 King St Toronto, ON</td>\n",
       "      <td>Downtown</td>\n",
       "      <td>362000</td>\n",
       "      <td>43.651478</td>\n",
       "      <td>-79.368118</td>\n",
       "    </tr>\n",
       "  </tbody>\n",
       "</table>\n",
       "</div>"
      ],
      "text/plain": [
       "                            Address           AreaName   Price        lat  \\\n",
       "0       86 Waterford Dr Toronto, ON           Richview  999888  43.679882   \n",
       "1  #80 - 100 BEDDOE DR Hamilton, ON     Chedoke Park B  399900  43.250000   \n",
       "2    213 Bowman Street Hamilton, ON  Ainslie Wood East  479000  43.251690   \n",
       "3      102 NEIL Avenue Hamilton, ON          Greenford  285900  43.227161   \n",
       "4   #1409 - 230 King St Toronto, ON           Downtown  362000  43.651478   \n",
       "\n",
       "         lng  \n",
       "0 -79.544266  \n",
       "1 -79.904396  \n",
       "2 -79.919357  \n",
       "3 -79.767403  \n",
       "4 -79.368118  "
      ]
     },
     "execution_count": 47,
     "metadata": {},
     "output_type": "execute_result"
    }
   ],
   "source": [
    "# drop unnamed column tried all of these options\n",
    "# properties_data.dropna(how='all', axis=1)\n",
    "# properties_data=pd.read_csv('properties.csv', index_col=0)\n",
    "properties_data = pd.read_csv(properties_path)\n",
    "properties_data.rename({\"Unnamed: 0\":\"a\"}, axis=\"columns\", inplace=True)\n",
    "properties_data.drop([\"a\"], axis=1, inplace=True)\n",
    "properties_data.rename({\"Price ($)\":\"Price\"}, axis=\"columns\", inplace=True)\n",
    "properties_data.head()"
   ]
  },
  {
   "cell_type": "code",
   "execution_count": null,
   "metadata": {},
   "outputs": [],
   "source": []
  },
  {
   "cell_type": "code",
   "execution_count": 49,
   "metadata": {},
   "outputs": [],
   "source": [
    "# when running map function, there were found NaN data in lat and lng, use drop \n",
    "properties_data_clean=properties_data.dropna()"
   ]
  },
  {
   "cell_type": "code",
   "execution_count": 50,
   "metadata": {},
   "outputs": [
    {
     "data": {
      "text/html": [
       "<div>\n",
       "<style scoped>\n",
       "    .dataframe tbody tr th:only-of-type {\n",
       "        vertical-align: middle;\n",
       "    }\n",
       "\n",
       "    .dataframe tbody tr th {\n",
       "        vertical-align: top;\n",
       "    }\n",
       "\n",
       "    .dataframe thead th {\n",
       "        text-align: right;\n",
       "    }\n",
       "</style>\n",
       "<table border=\"1\" class=\"dataframe\">\n",
       "  <thead>\n",
       "    <tr style=\"text-align: right;\">\n",
       "      <th></th>\n",
       "      <th>Price</th>\n",
       "      <th>lat</th>\n",
       "      <th>lng</th>\n",
       "    </tr>\n",
       "  </thead>\n",
       "  <tbody>\n",
       "    <tr>\n",
       "      <th>count</th>\n",
       "      <td>2.486800e+04</td>\n",
       "      <td>24868.000000</td>\n",
       "      <td>24868.000000</td>\n",
       "    </tr>\n",
       "    <tr>\n",
       "      <th>mean</th>\n",
       "      <td>5.669701e+05</td>\n",
       "      <td>43.939495</td>\n",
       "      <td>-79.382865</td>\n",
       "    </tr>\n",
       "    <tr>\n",
       "      <th>std</th>\n",
       "      <td>8.533163e+05</td>\n",
       "      <td>1.006421</td>\n",
       "      <td>2.383697</td>\n",
       "    </tr>\n",
       "    <tr>\n",
       "      <th>min</th>\n",
       "      <td>0.000000e+00</td>\n",
       "      <td>36.160065</td>\n",
       "      <td>-122.553154</td>\n",
       "    </tr>\n",
       "    <tr>\n",
       "      <th>25%</th>\n",
       "      <td>2.215000e+05</td>\n",
       "      <td>43.404707</td>\n",
       "      <td>-80.286264</td>\n",
       "    </tr>\n",
       "    <tr>\n",
       "      <th>50%</th>\n",
       "      <td>3.749000e+05</td>\n",
       "      <td>43.714592</td>\n",
       "      <td>-79.499923</td>\n",
       "    </tr>\n",
       "    <tr>\n",
       "      <th>75%</th>\n",
       "      <td>6.199000e+05</td>\n",
       "      <td>44.434961</td>\n",
       "      <td>-79.118414</td>\n",
       "    </tr>\n",
       "    <tr>\n",
       "      <th>max</th>\n",
       "      <td>3.250000e+07</td>\n",
       "      <td>53.851017</td>\n",
       "      <td>1.074519</td>\n",
       "    </tr>\n",
       "  </tbody>\n",
       "</table>\n",
       "</div>"
      ],
      "text/plain": [
       "              Price           lat           lng\n",
       "count  2.486800e+04  24868.000000  24868.000000\n",
       "mean   5.669701e+05     43.939495    -79.382865\n",
       "std    8.533163e+05      1.006421      2.383697\n",
       "min    0.000000e+00     36.160065   -122.553154\n",
       "25%    2.215000e+05     43.404707    -80.286264\n",
       "50%    3.749000e+05     43.714592    -79.499923\n",
       "75%    6.199000e+05     44.434961    -79.118414\n",
       "max    3.250000e+07     53.851017      1.074519"
      ]
     },
     "execution_count": 50,
     "metadata": {},
     "output_type": "execute_result"
    }
   ],
   "source": [
    "properties_data_clean.describe()"
   ]
  },
  {
   "cell_type": "code",
   "execution_count": 53,
   "metadata": {},
   "outputs": [
    {
     "data": {
      "text/html": [
       "<div>\n",
       "<style scoped>\n",
       "    .dataframe tbody tr th:only-of-type {\n",
       "        vertical-align: middle;\n",
       "    }\n",
       "\n",
       "    .dataframe tbody tr th {\n",
       "        vertical-align: top;\n",
       "    }\n",
       "\n",
       "    .dataframe thead th {\n",
       "        text-align: right;\n",
       "    }\n",
       "</style>\n",
       "<table border=\"1\" class=\"dataframe\">\n",
       "  <thead>\n",
       "    <tr style=\"text-align: right;\">\n",
       "      <th></th>\n",
       "      <th>Price</th>\n",
       "      <th>lat</th>\n",
       "      <th>lng</th>\n",
       "    </tr>\n",
       "  </thead>\n",
       "  <tbody>\n",
       "    <tr>\n",
       "      <th>count</th>\n",
       "      <td>2.337800e+04</td>\n",
       "      <td>23378.000000</td>\n",
       "      <td>23378.000000</td>\n",
       "    </tr>\n",
       "    <tr>\n",
       "      <th>mean</th>\n",
       "      <td>6.022072e+05</td>\n",
       "      <td>43.943489</td>\n",
       "      <td>-79.346165</td>\n",
       "    </tr>\n",
       "    <tr>\n",
       "      <th>std</th>\n",
       "      <td>8.682249e+05</td>\n",
       "      <td>0.990750</td>\n",
       "      <td>2.389382</td>\n",
       "    </tr>\n",
       "    <tr>\n",
       "      <th>min</th>\n",
       "      <td>5.000000e+04</td>\n",
       "      <td>36.160065</td>\n",
       "      <td>-118.061340</td>\n",
       "    </tr>\n",
       "    <tr>\n",
       "      <th>25%</th>\n",
       "      <td>2.499000e+05</td>\n",
       "      <td>43.426093</td>\n",
       "      <td>-80.264731</td>\n",
       "    </tr>\n",
       "    <tr>\n",
       "      <th>50%</th>\n",
       "      <td>3.980000e+05</td>\n",
       "      <td>43.717644</td>\n",
       "      <td>-79.485542</td>\n",
       "    </tr>\n",
       "    <tr>\n",
       "      <th>75%</th>\n",
       "      <td>6.490000e+05</td>\n",
       "      <td>44.430436</td>\n",
       "      <td>-79.103004</td>\n",
       "    </tr>\n",
       "    <tr>\n",
       "      <th>max</th>\n",
       "      <td>3.250000e+07</td>\n",
       "      <td>53.851017</td>\n",
       "      <td>1.074519</td>\n",
       "    </tr>\n",
       "  </tbody>\n",
       "</table>\n",
       "</div>"
      ],
      "text/plain": [
       "              Price           lat           lng\n",
       "count  2.337800e+04  23378.000000  23378.000000\n",
       "mean   6.022072e+05     43.943489    -79.346165\n",
       "std    8.682249e+05      0.990750      2.389382\n",
       "min    5.000000e+04     36.160065   -118.061340\n",
       "25%    2.499000e+05     43.426093    -80.264731\n",
       "50%    3.980000e+05     43.717644    -79.485542\n",
       "75%    6.490000e+05     44.430436    -79.103004\n",
       "max    3.250000e+07     53.851017      1.074519"
      ]
     },
     "execution_count": 53,
     "metadata": {},
     "output_type": "execute_result"
    }
   ],
   "source": [
    "#filter price higher than 50,000\n",
    "properties_data_clean=properties_data_clean.loc[properties_data_clean[\"Price\"] >= 50000]\n",
    "properties_data_clean.describe()"
   ]
  },
  {
   "cell_type": "code",
   "execution_count": 54,
   "metadata": {},
   "outputs": [
    {
     "data": {
      "text/plain": [
       "Address      object\n",
       "AreaName     object\n",
       "Price         int64\n",
       "lat         float64\n",
       "lng         float64\n",
       "dtype: object"
      ]
     },
     "execution_count": 54,
     "metadata": {},
     "output_type": "execute_result"
    }
   ],
   "source": [
    "properties_data_clean.dtypes"
   ]
  },
  {
   "cell_type": "code",
   "execution_count": null,
   "metadata": {},
   "outputs": [],
   "source": [
    "#try filter by address, map is better with areaname\n",
    "properties_tor=properties_data_clean[properties_data_clean['Address'].str.contains(\"Toronto\")]"
   ]
  },
  {
   "cell_type": "code",
   "execution_count": null,
   "metadata": {},
   "outputs": [],
   "source": [
    "properties_tor[\"postal_code\"] = \"\"\n",
    "properties_tor[\"neighbourhood\"] = \"\"\n",
    "properties_tor.head()"
   ]
  },
  {
   "cell_type": "code",
   "execution_count": null,
   "metadata": {},
   "outputs": [],
   "source": [
    "# figure_layout = {\n",
    "#     'width': '400px',\n",
    "#     'height': '300px',\n",
    "#     'border': '1px solid black',\n",
    "#     'padding': '1px',\n",
    "#     'margin': '0 auto 0 auto'\n",
    "# }\n",
    "# fig = gmaps.figure(layout=figure_layout)"
   ]
  },
  {
   "cell_type": "code",
   "execution_count": null,
   "metadata": {},
   "outputs": [],
   "source": [
    "# # Assign the marker layer to a variable\n",
    "# markers = gmaps.marker_layer(locations)\n",
    "# # Add the layer to the map\n",
    "# fig.add_layer(markers)\n",
    "# fig\n"
   ]
  },
  {
   "cell_type": "code",
   "execution_count": null,
   "metadata": {},
   "outputs": [],
   "source": [
    "# update each iteration\n",
    "for index, row in properties_tor.iterrows():\n",
    "    # get lat, lng from df\n",
    "    lat = row[\"lat\"]\n",
    "    lng = row[\"lng\"]\n",
    "    gkey= gkey\n",
    "    coordinates=f\"{lat},{lng}\" \n",
    "    target_url =(f\"https://maps.googleapis.com/maps/api/geocode/json?latlng={coordinates}&key={gkey}\")\n",
    "    response = requests.get(target_url)\n",
    "    response_json=response.json()\n",
    "    properties_tor.loc[index, \"postal_code\"] = response_json[\"results\"][0][\"address_components\"][-1][\"long_name\"]\n",
    "    properties_tor.loc[index, \"neighbourhood\"] = response_json[\"results\"][1][\"address_components\"][2][\"long_name\"]\n"
   ]
  },
  {
   "cell_type": "code",
   "execution_count": null,
   "metadata": {},
   "outputs": [],
   "source": [
    "properties_tor"
   ]
  },
  {
   "cell_type": "code",
   "execution_count": null,
   "metadata": {},
   "outputs": [],
   "source": [
    "with open(‘postalcode_added.csv’,mode=‘a’) as f:\n",
    "first_df.to_csv(‘postalcode_added.csv’, index = False, header = False, mode=‘a’)"
   ]
  }
 ],
 "metadata": {
  "kernelspec": {
   "display_name": "Python 3",
   "language": "python",
   "name": "python3"
  },
  "language_info": {
   "codemirror_mode": {
    "name": "ipython",
    "version": 3
   },
   "file_extension": ".py",
   "mimetype": "text/x-python",
   "name": "python",
   "nbconvert_exporter": "python",
   "pygments_lexer": "ipython3",
   "version": "3.7.1"
  }
 },
 "nbformat": 4,
 "nbformat_minor": 2
}
