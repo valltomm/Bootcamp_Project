{
 "cells": [
  {
   "cell_type": "code",
   "execution_count": null,
   "metadata": {},
   "outputs": [],
   "source": [
    "# Merged code for final data analysis & visulization"
   ]
  },
  {
   "cell_type": "code",
   "execution_count": 1,
   "metadata": {},
   "outputs": [],
   "source": [
    "%matplotlib inline\n",
    "import matplotlib.pyplot as plt\n",
    "import pandas as pd\n",
    "import numpy as np\n",
    "import gmaps\n",
    "import requests\n",
    "import json\n"
   ]
  },
  {
   "cell_type": "code",
   "execution_count": 2,
   "metadata": {},
   "outputs": [],
   "source": [
    "properties_path= \"raw_data/Property_postaladded.csv\""
   ]
  },
  {
   "cell_type": "code",
   "execution_count": 5,
   "metadata": {},
   "outputs": [],
   "source": [
    "properties_data = pd.read_csv(properties_path)"
   ]
  },
  {
   "cell_type": "code",
   "execution_count": 6,
   "metadata": {},
   "outputs": [
    {
     "data": {
      "text/html": [
       "<div>\n",
       "<style scoped>\n",
       "    .dataframe tbody tr th:only-of-type {\n",
       "        vertical-align: middle;\n",
       "    }\n",
       "\n",
       "    .dataframe tbody tr th {\n",
       "        vertical-align: top;\n",
       "    }\n",
       "\n",
       "    .dataframe thead th {\n",
       "        text-align: right;\n",
       "    }\n",
       "</style>\n",
       "<table border=\"1\" class=\"dataframe\">\n",
       "  <thead>\n",
       "    <tr style=\"text-align: right;\">\n",
       "      <th></th>\n",
       "      <th>Address</th>\n",
       "      <th>AreaName</th>\n",
       "      <th>Price</th>\n",
       "      <th>lat</th>\n",
       "      <th>lng</th>\n",
       "      <th>postal_code</th>\n",
       "      <th>neighbourhood</th>\n",
       "    </tr>\n",
       "  </thead>\n",
       "  <tbody>\n",
       "    <tr>\n",
       "      <th>0</th>\n",
       "      <td>86 Waterford Dr Toronto, ON</td>\n",
       "      <td>Richview</td>\n",
       "      <td>999888</td>\n",
       "      <td>43.679882</td>\n",
       "      <td>-79.544266</td>\n",
       "      <td>M9R 2N8</td>\n",
       "      <td>Etobicoke</td>\n",
       "    </tr>\n",
       "    <tr>\n",
       "      <th>1</th>\n",
       "      <td>#1409 - 230 King St Toronto, ON</td>\n",
       "      <td>Downtown</td>\n",
       "      <td>362000</td>\n",
       "      <td>43.651478</td>\n",
       "      <td>-79.368118</td>\n",
       "      <td>M5A 2P8</td>\n",
       "      <td>Toronto</td>\n",
       "    </tr>\n",
       "    <tr>\n",
       "      <th>2</th>\n",
       "      <td>254A Monarch Park Ave Toronto, ON</td>\n",
       "      <td>Old East York</td>\n",
       "      <td>1488000</td>\n",
       "      <td>43.686375</td>\n",
       "      <td>-79.328918</td>\n",
       "      <td>M4J 4S5</td>\n",
       "      <td>East York</td>\n",
       "    </tr>\n",
       "    <tr>\n",
       "      <th>3</th>\n",
       "      <td>3 Bracebridge Ave Toronto, ON</td>\n",
       "      <td>Old East York</td>\n",
       "      <td>599900</td>\n",
       "      <td>43.697842</td>\n",
       "      <td>-79.317368</td>\n",
       "      <td>M4C 2X6</td>\n",
       "      <td>East York</td>\n",
       "    </tr>\n",
       "    <tr>\n",
       "      <th>4</th>\n",
       "      <td>#710 - 1080 Bay St Toronto, ON</td>\n",
       "      <td>Downtown</td>\n",
       "      <td>805900</td>\n",
       "      <td>43.666794</td>\n",
       "      <td>-79.388756</td>\n",
       "      <td>M5S 0A5</td>\n",
       "      <td>Old Toronto</td>\n",
       "    </tr>\n",
       "  </tbody>\n",
       "</table>\n",
       "</div>"
      ],
      "text/plain": [
       "                             Address       AreaName    Price        lat  \\\n",
       "0        86 Waterford Dr Toronto, ON       Richview   999888  43.679882   \n",
       "1    #1409 - 230 King St Toronto, ON       Downtown   362000  43.651478   \n",
       "2  254A Monarch Park Ave Toronto, ON  Old East York  1488000  43.686375   \n",
       "3      3 Bracebridge Ave Toronto, ON  Old East York   599900  43.697842   \n",
       "4     #710 - 1080 Bay St Toronto, ON       Downtown   805900  43.666794   \n",
       "\n",
       "         lng postal_code neighbourhood  \n",
       "0 -79.544266     M9R 2N8     Etobicoke  \n",
       "1 -79.368118     M5A 2P8       Toronto  \n",
       "2 -79.328918     M4J 4S5     East York  \n",
       "3 -79.317368     M4C 2X6     East York  \n",
       "4 -79.388756     M5S 0A5   Old Toronto  "
      ]
     },
     "execution_count": 6,
     "metadata": {},
     "output_type": "execute_result"
    }
   ],
   "source": [
    "properties_data.head(5)"
   ]
  },
  {
   "cell_type": "code",
   "execution_count": 7,
   "metadata": {},
   "outputs": [],
   "source": [
    "homicide_path= \"raw_data/Homicide_postaladded.csv\""
   ]
  },
  {
   "cell_type": "code",
   "execution_count": 8,
   "metadata": {},
   "outputs": [],
   "source": [
    "homicide_data = pd.read_csv(homicide_path)"
   ]
  },
  {
   "cell_type": "code",
   "execution_count": 9,
   "metadata": {},
   "outputs": [
    {
     "data": {
      "text/html": [
       "<div>\n",
       "<style scoped>\n",
       "    .dataframe tbody tr th:only-of-type {\n",
       "        vertical-align: middle;\n",
       "    }\n",
       "\n",
       "    .dataframe tbody tr th {\n",
       "        vertical-align: top;\n",
       "    }\n",
       "\n",
       "    .dataframe thead th {\n",
       "        text-align: right;\n",
       "    }\n",
       "</style>\n",
       "<table border=\"1\" class=\"dataframe\">\n",
       "  <thead>\n",
       "    <tr style=\"text-align: right;\">\n",
       "      <th></th>\n",
       "      <th>Homicide_Year</th>\n",
       "      <th>Homicide_Lat</th>\n",
       "      <th>Homicide_Lng</th>\n",
       "      <th>Homicide_Neighbourhood</th>\n",
       "      <th>Homicide_Postal_Code</th>\n",
       "      <th>Homicide_Neighborhood2</th>\n",
       "      <th>Homicide_Postal_Group</th>\n",
       "    </tr>\n",
       "  </thead>\n",
       "  <tbody>\n",
       "    <tr>\n",
       "      <th>0</th>\n",
       "      <td>2016</td>\n",
       "      <td>43.667374</td>\n",
       "      <td>-79.381638</td>\n",
       "      <td>Church-Yonge Corridor (75)</td>\n",
       "      <td>M4Y 1L5</td>\n",
       "      <td>Old Toronto</td>\n",
       "      <td>M4Y</td>\n",
       "    </tr>\n",
       "    <tr>\n",
       "      <th>1</th>\n",
       "      <td>2016</td>\n",
       "      <td>43.705143</td>\n",
       "      <td>-79.529404</td>\n",
       "      <td>Weston (113)</td>\n",
       "      <td>M9N 1Z2</td>\n",
       "      <td>North York</td>\n",
       "      <td>M9N</td>\n",
       "    </tr>\n",
       "    <tr>\n",
       "      <th>2</th>\n",
       "      <td>2016</td>\n",
       "      <td>43.742729</td>\n",
       "      <td>-79.540337</td>\n",
       "      <td>Humbermede (22)</td>\n",
       "      <td>M9M 1N6</td>\n",
       "      <td>Toronto</td>\n",
       "      <td>M9M</td>\n",
       "    </tr>\n",
       "    <tr>\n",
       "      <th>3</th>\n",
       "      <td>2016</td>\n",
       "      <td>43.704571</td>\n",
       "      <td>-79.396797</td>\n",
       "      <td>Mount Pleasant West (104)</td>\n",
       "      <td>M4S 1V5</td>\n",
       "      <td>Old Toronto</td>\n",
       "      <td>M4S</td>\n",
       "    </tr>\n",
       "    <tr>\n",
       "      <th>4</th>\n",
       "      <td>2016</td>\n",
       "      <td>43.657211</td>\n",
       "      <td>-79.404076</td>\n",
       "      <td>University (79)</td>\n",
       "      <td>M5T 3A9</td>\n",
       "      <td>Old Toronto</td>\n",
       "      <td>M5T</td>\n",
       "    </tr>\n",
       "  </tbody>\n",
       "</table>\n",
       "</div>"
      ],
      "text/plain": [
       "   Homicide_Year  Homicide_Lat  Homicide_Lng      Homicide_Neighbourhood  \\\n",
       "0           2016     43.667374    -79.381638  Church-Yonge Corridor (75)   \n",
       "1           2016     43.705143    -79.529404                Weston (113)   \n",
       "2           2016     43.742729    -79.540337             Humbermede (22)   \n",
       "3           2016     43.704571    -79.396797   Mount Pleasant West (104)   \n",
       "4           2016     43.657211    -79.404076             University (79)   \n",
       "\n",
       "  Homicide_Postal_Code Homicide_Neighborhood2 Homicide_Postal_Group  \n",
       "0              M4Y 1L5            Old Toronto                   M4Y  \n",
       "1              M9N 1Z2             North York                   M9N  \n",
       "2              M9M 1N6                Toronto                   M9M  \n",
       "3              M4S 1V5            Old Toronto                   M4S  \n",
       "4              M5T 3A9            Old Toronto                   M5T  "
      ]
     },
     "execution_count": 9,
     "metadata": {},
     "output_type": "execute_result"
    }
   ],
   "source": [
    "homicide_data.head(5) "
   ]
  },
  {
   "cell_type": "code",
   "execution_count": 10,
   "metadata": {},
   "outputs": [
    {
     "data": {
      "text/html": [
       "<div>\n",
       "<style scoped>\n",
       "    .dataframe tbody tr th:only-of-type {\n",
       "        vertical-align: middle;\n",
       "    }\n",
       "\n",
       "    .dataframe tbody tr th {\n",
       "        vertical-align: top;\n",
       "    }\n",
       "\n",
       "    .dataframe thead th {\n",
       "        text-align: right;\n",
       "    }\n",
       "</style>\n",
       "<table border=\"1\" class=\"dataframe\">\n",
       "  <thead>\n",
       "    <tr style=\"text-align: right;\">\n",
       "      <th></th>\n",
       "      <th>Homicide Count</th>\n",
       "    </tr>\n",
       "    <tr>\n",
       "      <th>Homicide_Neighborhood2</th>\n",
       "      <th></th>\n",
       "    </tr>\n",
       "  </thead>\n",
       "  <tbody>\n",
       "    <tr>\n",
       "      <th>East York</th>\n",
       "      <td>4</td>\n",
       "    </tr>\n",
       "    <tr>\n",
       "      <th>Etobicoke</th>\n",
       "      <td>11</td>\n",
       "    </tr>\n",
       "    <tr>\n",
       "      <th>North York</th>\n",
       "      <td>9</td>\n",
       "    </tr>\n",
       "    <tr>\n",
       "      <th>Old Toronto</th>\n",
       "      <td>21</td>\n",
       "    </tr>\n",
       "    <tr>\n",
       "      <th>Scarborough</th>\n",
       "      <td>14</td>\n",
       "    </tr>\n",
       "    <tr>\n",
       "      <th>Toronto</th>\n",
       "      <td>15</td>\n",
       "    </tr>\n",
       "    <tr>\n",
       "      <th>York</th>\n",
       "      <td>1</td>\n",
       "    </tr>\n",
       "  </tbody>\n",
       "</table>\n",
       "</div>"
      ],
      "text/plain": [
       "                        Homicide Count\n",
       "Homicide_Neighborhood2                \n",
       "East York                            4\n",
       "Etobicoke                           11\n",
       "North York                           9\n",
       "Old Toronto                         21\n",
       "Scarborough                         14\n",
       "Toronto                             15\n",
       "York                                 1"
      ]
     },
     "execution_count": 10,
     "metadata": {},
     "output_type": "execute_result"
    }
   ],
   "source": [
    "#Group homicide records by neighborhoods \n",
    "homicide_hood =homicide_data.groupby(\"Homicide_Neighborhood2\")\n",
    "homicide_hood_count = homicide_hood[\"Homicide_Neighborhood2\"].count()\n",
    "homicide_hood_bar = pd.DataFrame({\"Homicide Count\":homicide_hood_count})\n",
    "homicide_hood_bar"
   ]
  },
  {
   "cell_type": "code",
   "execution_count": 11,
   "metadata": {},
   "outputs": [],
   "source": [
    "homicide_hood=homicide_hood_bar.sort_values(\"Homicide Count\",ascending=False)\n"
   ]
  },
  {
   "cell_type": "code",
   "execution_count": 12,
   "metadata": {},
   "outputs": [
    {
     "data": {
      "image/png": "[encoded data removed]",
      "text/plain": [
       "<Figure size 432x288 with 1 Axes>"
      ]
     },
     "metadata": {},
     "output_type": "display_data"
    }
   ],
   "source": [
    "# Visualization 1) Homicide by Neighborhoods - Pie Chart \n",
    "sizes = homicide_hood['Homicide Count']\n",
    "labels = homicide_hood.index\n",
    "colors = [\"red\", \"orange\", \"lightcoral\", \"lightskyblue\",\"blue\",\"yellow\",\"green\"]\n",
    "explode = (0,0,0,1)\n",
    "plt.title(\"Homicide Percentage by Neighborhood\")\n",
    "# Creates the pie chart based upon the values above\n",
    "plt.pie(sizes, labels=labels, colors=colors, autopct=\"%1.1f%%\", shadow=True, startangle=140)\n",
    "plt.savefig(\"1_HomicideNeighborhoods_Pie\", bbox_inches = 'tight')\n",
    "plt.show()\n"
   ]
  },
  {
   "cell_type": "code",
   "execution_count": 13,
   "metadata": {},
   "outputs": [
    {
     "data": {
      "image/png": "[encoded data removed]",
      "text/plain": [
       "<Figure size 432x288 with 1 Axes>"
      ]
     },
     "metadata": {
      "needs_background": "light"
     },
     "output_type": "display_data"
    }
   ],
   "source": [
    "# Visualization 2) Homicide by Neighborhoods - Bar Chart \n",
    "homicide_hood.plot(kind='bar')\n",
    "plt.title('Homicide by Neighborhoods in Toronto - 2016 ')\n",
    "plt.savefig(\"2_HomicideNeighborhoods_Bar\", bbox_inches = 'tight')"
   ]
  },
  {
   "cell_type": "code",
   "execution_count": 14,
   "metadata": {},
   "outputs": [],
   "source": [
    "locations_homicide = homicide_data[[\"Homicide_Lat\", \"Homicide_Lng\"]].astype(float)\n"
   ]
  },
  {
   "cell_type": "code",
   "execution_count": 15,
   "metadata": {
    "scrolled": true
   },
   "outputs": [
    {
     "data": {
      "application/vnd.jupyter.widget-view+json": {
       "model_id": "27bc690b78624f57a4028cf7c5f7dc26",
       "version_major": 2,
       "version_minor": 0
      },
      "text/plain": [
       "Figure(layout=FigureLayout(height='420px'))"
      ]
     },
     "metadata": {},
     "output_type": "display_data"
    }
   ],
   "source": [
    "# Visualization 3) Homicide Heatmap  \n",
    "figure_layout = {\n",
    "    'width': '400px',\n",
    "    'height': '300px',\n",
    "    'border': '1px solid black',\n",
    "    'padding': '1px',\n",
    "    'margin': '0 auto 0 auto'\n",
    "}\n",
    "fig = gmaps.figure(layout=figure_layout)\n",
    "fig = gmaps.figure()\n",
    "\n",
    "#homicide_heat_layer = gmaps.heatmap_layer(locations_homicide,dissipating=False, max_intensity=100,\n",
    "                                 #point_radius = 1)\n",
    "homicide_heat_layer = gmaps.heatmap_layer(locations_homicide)\n",
    "fig.add_layer(homicide_heat_layer)\n",
    "\n",
    "fig\n",
    "\n"
   ]
  },
  {
   "cell_type": "code",
   "execution_count": 16,
   "metadata": {},
   "outputs": [
    {
     "data": {
      "application/vnd.jupyter.widget-view+json": {
       "model_id": "27bc690b78624f57a4028cf7c5f7dc26",
       "version_major": 2,
       "version_minor": 0
      },
      "text/plain": [
       "Figure(layout=FigureLayout(height='420px'))"
      ]
     },
     "metadata": {},
     "output_type": "display_data"
    }
   ],
   "source": [
    "# Visualization 4) Property Heatmap  \n",
    "#create locations\n",
    "figure_layout = {\n",
    "    'width': '400px',\n",
    "    'height': '300px',\n",
    "    'border': '1px solid black',\n",
    "    'padding': '1px',\n",
    "    'margin': '0 auto 0 auto'\n",
    "}\n",
    "locations_property = properties_data[[\"lat\", \"lng\"]].astype(float)\n",
    "colour = [\n",
    "         'rgba(0, 255, 255, 0)',\n",
    "         'rgba(0, 255, 255, 1)',\n",
    "         'rgba(0, 191, 255, 1)',\n",
    "         'rgba(0, 127, 255, 1)',\n",
    "         'rgba(0, 63, 255, 1)',\n",
    "         'rgba(0, 0, 255, 1)',\n",
    "         'rgba(0, 0, 223, 1)',\n",
    "         'rgba(0, 0, 191, 1)',\n",
    "         'rgba(0, 0, 159, 1)',\n",
    "         'rgba(0, 0, 127, 1)',\n",
    "         'rgba(63, 0, 91, 1)',\n",
    "         'rgba(127, 0, 63, 1)',\n",
    "         'rgba(191, 0, 31, 1)',\n",
    "         'rgba(255, 0, 0, 1)']\n",
    "\n",
    "property_heat_layer = gmaps.heatmap_layer(locations_property, gradient=colour)\n",
    "fig.add_layer(property_heat_layer)\n",
    "\n",
    "fig\n"
   ]
  },
  {
   "cell_type": "code",
   "execution_count": 17,
   "metadata": {},
   "outputs": [
    {
     "data": {
      "application/vnd.jupyter.widget-view+json": {
       "model_id": "39aec5f546c746739272766b7aa32e79",
       "version_major": 2,
       "version_minor": 0
      },
      "text/plain": [
       "Figure(layout=FigureLayout(height='420px'))"
      ]
     },
     "metadata": {},
     "output_type": "display_data"
    }
   ],
   "source": [
    "#Visualization 5) Combined Homicide + Property Heatmap  \n",
    "figure_layout = {\n",
    "    'width': '400px',\n",
    "    'height': '300px',\n",
    "    'border': '1px solid black',\n",
    "    'padding': '1px',\n",
    "    'margin': '0 auto 0 auto'\n",
    "}\n",
    "fig = gmaps.figure(layout=figure_layout)\n",
    "fig = gmaps.figure()\n",
    "\n",
    "#homicide_heat_layer = gmaps.heatmap_layer(locations_homicide,dissipating=False, max_intensity=100,\n",
    "                                 #point_radius = 1)\n",
    "homicide_heat_layer = gmaps.heatmap_layer(locations_homicide)\n",
    "property_heat_layer = gmaps.heatmap_layer(locations_property, gradient=colour)\n",
    "fig.add_layer(property_heat_layer)\n",
    "fig.add_layer(homicide_heat_layer)\n",
    "fig\n"
   ]
  },
  {
   "cell_type": "code",
   "execution_count": null,
   "metadata": {},
   "outputs": [],
   "source": [
    "propertiesbyhood = properties_data.groupby(\"neighbourhood\")\n",
    "price_avg = propertiesbyhood[\"Price\"].mean()\n",
    "propertiesbyhood = pd.DataFrame({\"Average Price\":price_avg})\n",
    "propertiesbyhood = propertiesbyhood.reset_index()\n",
    "propertiesbyhood"
   ]
  },
  {
   "cell_type": "code",
   "execution_count": null,
   "metadata": {},
   "outputs": [],
   "source": [
    "#Group homicide records by neighborhoods\n",
    "homicidebyhood = homicide_data.groupby(\"Homicide_Neighborhood2\")\n",
    "homicide_hood_count = homicidebyhood[\"Homicide_Neighborhood2\"].count()\n",
    "homicidebyhood = pd.DataFrame({\"Homicide Count\":homicide_hood_count})\n",
    "homicidebyhood = homicidebyhood.reset_index()\n",
    "homicidebyhood"
   ]
  },
  {
   "cell_type": "code",
   "execution_count": null,
   "metadata": {},
   "outputs": [],
   "source": [
    "combined_df = homicidebyhood.merge(propertiesbyhood,left_on='Homicide_Neighborhood2', right_on='neighbourhood')\n",
    "combined_df"
   ]
  },
  {
   "cell_type": "code",
   "execution_count": null,
   "metadata": {},
   "outputs": [],
   "source": [
    "price_aver = combined_df['Average Price']\n",
    "homicide_count = combined_df['Homicide Count']"
   ]
  },
  {
   "cell_type": "code",
   "execution_count": null,
   "metadata": {},
   "outputs": [],
   "source": [
    "# Visualization 6) Property vs Homcide Scatter  \n",
    "# Create a title, x label, and y label for our chart\n",
    "plt.title(\"Homicide count vs Average House price\")\n",
    "plt.xlabel(\"Number of Homicide\")\n",
    "plt.ylabel(\"House price (Dollars)\")\n",
    "\n",
    "# Set the upper and lower limits of our y axis\n",
    "# plt.ylim(180,620)\n",
    "\n",
    "# Set the upper and lower limits of our x axis\n",
    "# plt.xlim(11,26)\n",
    "\n",
    "plt.scatter(homicide_count, price_aver, marker=\"s\", facecolors=\"blue\", edgecolors=\"black\")\n",
    "\n",
    "plt.savefig(\"6_Combined_Scatter\", bbox_inches = 'tight')"
   ]
  },
  {
   "cell_type": "code",
   "execution_count": null,
   "metadata": {},
   "outputs": [],
   "source": []
  }
 ],
 "metadata": {
  "kernelspec": {
   "display_name": "Python 3",
   "language": "python",
   "name": "python3"
  },
  "language_info": {
   "codemirror_mode": {
    "name": "ipython",
    "version": 3
   },
   "file_extension": ".py",
   "mimetype": "text/x-python",
   "name": "python",
   "nbconvert_exporter": "python",
   "pygments_lexer": "ipython3",
   "version": "3.7.1"
  }
 },
 "nbformat": 4,
 "nbformat_minor": 2
}
